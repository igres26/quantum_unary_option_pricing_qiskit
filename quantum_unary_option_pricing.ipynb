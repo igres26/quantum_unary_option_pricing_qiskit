{
 "cells": [
  {
   "cell_type": "markdown",
   "metadata": {},
   "source": [
    "# Quantum unary approach to option pricing\n",
    "***"
   ]
  },
  {
   "cell_type": "markdown",
   "metadata": {},
   "source": [
    "### _Abstract_\n",
    "\n",
    "Here is presented a novel quantum algorithm for European option pricing in finance, where the key idea is to work in the unary representation. The algorithm is divided in two main parts, amplitude distribution using a low depth circuit and computation of the expected return computed with simple controlled gates. Unary representation offers several advantages and one disadvantage. On the positive side, unary representation simplifies the structure and depth of the quantum circuit and also provides a post-selection consistency check that allows for a substantial mitigation in the error of the computation. On the negative side, unary representation offers lower resolution given a fixed number of qubits, as compared to binary algorithms.\n",
    "\n",
    "In the following the unary algorithm is described and simulations are perfomed with the inclusion of a simple noise model in order to test the robustness of the algorithm"
   ]
  },
  {
   "cell_type": "markdown",
   "metadata": {},
   "source": [
    "### Introduction\n",
    "\n",
    "The use of quantum computation to solve financial problems, such as pricing of financial derivatives, is being discussed more and more nowadays [[1](https://arxiv.org/abs/1807.03890)], [[2](https://arxiv.org/abs/1805.00109)], [[3](https://arxiv.org/abs/1905.02666)]. Algorithms that estimate the expected payoff of a derivative have been recently presented, and the expectation is that, provided a robust quantum device, they will outclass current classical means. However, for Noisy Intermediate Scale Quantum (NISQ) devices currently available, these algorithms are too costly to run at high scales.\n",
    "\n",
    "One of the most promising advantages provided by quantum computation is the exponential Hilbert space at its disposal. In the case of option pricing this directly translates to high precision in its estimations. However, the circuits that load the expected probabilities, and more importantly, the comparator needed to gauge if the option price is higher or lower than the accorded strike quickly becomes prohivitive in NISQ devices.\n",
    "\n",
    "Here, a different point of view is proposed. Changing to the unary representation yields a simpler circuit and allows a post-selection scheme that results in error mitication. The unary representation means states where only a single qubit is in the $|1\\rangle$ state. This represents a loss of Hilbert space of $2^n\\longrightarrow n$, but is beneficial in other fronts. This allows for a simple amplitude distribution algorithm to encode the probability distriution of the asset price into the quantum register, and a more straight forward way to compute the expected payoff."
   ]
  },
  {
   "cell_type": "markdown",
   "metadata": {},
   "source": [
    "#### Pricing of European options\n",
    "\n",
    "European options, known also as path-independent _vanilla_ options are the some of the easiest to approach at first. This is due to the fact that they only depend on the asset price at maturity time $T$, refrenced henceforth as $S_T$. The expected value of said asset at time $T$ can be evaluated via the Black-Scholes model [[4](http://www.jstor.org/stable/1831029)]. The Black-Scholes model assumes that the price of the asset underlying the option is dictated by a geometric Brownian motion. The evolution of the stock price can be described by the stochastic differential equation\n",
    "\n",
    "$$dS_t=S_t r dt+S_t\\sigma dW_t,$$\n",
    "\n",
    "where $r$ and $\\sigma$ are the interest rate and volatility of the asset and $W_t$ characterizes a Brownian motion. This Brownian motion can also be written as $dW_t=\\sqrt{dt}N(0,1)$ with $N(0,1)$ a normal distribution with $0$ mean and standard deviation of $1$. This stochastic equation can be solved exatly for constant interest rate and volatility as\n",
    "\n",
    "$$S_t=S_0e^{\\sigma W_t+(\\alpha-\\sigma^2/2)t}.$$\n",
    "\n",
    "This is an exponential of a normal random variable, hidden in $W_t$, therfore the probability distribution function of $S_t$ will take on a _log-normal_ form. At a maturity time T the probability distribution function of the asset price becomes\n",
    "\n",
    "$$p(S_T)=\\frac{1}{S_T\\sigma\\sqrt{2\\pi T}}\\exp{\\left(-\\frac{(\\ln S_T-(\\alpha-\\frac{\\sigma^2}{2})T-\\ln S_0)^2}{2\\sigma^2T}\\right)},$$\n",
    "\n",
    "from which $(\\alpha-\\frac{\\sigma^2}{2})T+\\ln S_0)$ is usually given as $\\mu$.\n"
   ]
  },
  {
   "cell_type": "code",
   "execution_count": 1,
   "metadata": {},
   "outputs": [],
   "source": [
    "'''\n",
    "Lognormal probability distribution function normalized for representation in finite intervals\n",
    "\n",
    "'''\n",
    "def log_normal(x, mu, sig, T):\n",
    "    dx = x[1]-x[0]\n",
    "    log_norm = 1 / (x * sig * np.sqrt(2 * np.pi * T)) * np.exp(- np.power(np.log(x) - mu, 2.) / (2 * np.power(sig, 2.) * T))\n",
    "    f = log_norm*dx/(np.sum(log_norm * dx))\n",
    "    return f"
   ]
  },
  {
   "cell_type": "markdown",
   "metadata": {},
   "source": [
    "Once the probability distribution is computed the payoff of an European option can be defined as \n",
    "\n",
    "$$\\text{payoff}(S_T)=\\max(0,S_T-K)$$\n",
    "\n",
    "for call options, and \n",
    "\n",
    "$$\\text{payoff}(S_T)=\\max(0,K-S_T)$$\n",
    "\n",
    "for put options, where $K$ is the accorded strike price when the option was first aquired. An option provides the chance to buy ( _call_ ) or sell ( _put_ ) the underlying asset at the strike price $K$ at maturity time $T$. As it is not mandatory to do so, the option holder will not buy or sell the asset if there is no profit to be made."
   ]
  },
  {
   "cell_type": "markdown",
   "metadata": {},
   "source": [
    "#### Difficulties for NISQ devices in the binary representation\n",
    "\n",
    "Once the probability distribution function is succesfully uploaded into the binary representation, assumed to be efficient due to the integrability of the Black-Scholes model [[5](https://arxiv.org/abs/quant-ph/0208112)], in order to diferentiate states with $S_T>K$ ( _for call options_ ) a quantum comparator has to be implemented. This comparator [[6](https://arxiv.org/abs/quant-ph/0410184)], tailored to the strike price $K$, computes the carry bit in the most significant qubit to determine if the option price is above or below the strike. This procedure is based on multiple CNOT and Toffoli gates. Toffoli gates are a problem for NISQ devices as this three-quibit gates have to be decomposed to multiple single and two-qubit gates \n",
    "\n",
    "<img src=\"Images/Toffoli.png\" width=\"600\" title=\"Toffoli decomposition\"/>\n",
    "\n",
    "as seen in [7]. This makes the comparator hard to implement in near-term devices as the gates needed to complete the algorithm has a large decomposition in basis gates.\n",
    "\n",
    "The unitary representation does not need of such a comparator, therefore no three qubit gate will be needed."
   ]
  },
  {
   "cell_type": "markdown",
   "metadata": {},
   "source": [
    "### Algorithm in the unary representation\n",
    "\n",
    "#### Advantadges for NISQ devices\n",
    "\n",
    "Unlike the binary case, there is no need of Toffoli gates for the comparator in the unary representation. At most, the most complicated gates that appear are CNOT and $cR_y$ gates. Overall, the probablity loading algorithm scales with $(n-1)$ partial-SWAP gates, where $n$ is the qubit number. If this number were to be decomposed into regular CNOT and single qubit gates, we would find $4(n-1)$ CNOT gates and $(2n-1)$ single qubit gates.\n",
    "\n",
    "The payoff circuit is even simpler. Instead of relying on a comparator and a payoff calculator, in the unary representation they can be applied at the same time with $(n-k)$ $cR_y$ gates, where $k$ refers to the qubit number where the option price becomes higher than the strike. Therefore, the number of $cR_y$ gates needed is always lower than the number of qubits, sometimes significantly so.\n",
    "\n",
    "The exact decomposition of the partial-SWAP gates and $cR_y$ gates will be shown in the following sections."
   ]
  },
  {
   "cell_type": "markdown",
   "metadata": {},
   "source": [
    "#### Amplitude distribution algorithm\n",
    "\n",
    "This algorithm distributes the mplitude of one qubit with the rest in order to represent a target probability distribution. The circuit is initialized with only the middle qubit occupied. We can introduce partial-SWAP gates\n",
    "<img src=\"Images/SWAPRy2.png\" width=\"200\" title=\"SWAP-Ry\"/>\n",
    "which can be decomposed as\n",
    "<img src=\"Images/SWAPRy.png\" width=\"250\" title=\"SWAP-Ry decomposition\"/>\n",
    "using only CNOT and $cR_y$ gates. In turn, in order to represent it in the native gates of the device, this $cR_y$ gate can be separated into\n",
    "<img src=\"Images/CRyDef.png\" width=\"300\" title=\"C-Ry decomposition\"/>\n",
    "\n",
    "The purpose of this two qubit gates is to share the probability of a state with its neighbours. The angle in which the rotation is performed encodes the amount of probability that leaves the occupied state to go to the next one. As this parameters can be trained or tuned analytically, one only needs one of this gates for each two qubit pair of the system, amounting to $(n-1)$ partial-SWAP gates. The completed amplitude distributor circuit for $n$ qubits is\n",
    "<img src=\"Images/Prob_text.png\" width=\"600\" title=\"Random walk circuit\"/>\n",
    "where the gates are applied starting from the centre, as it is the only occupied state when the algorithm starts.\n",
    "\n",
    "After this circuit is applied one finds the desired distribution encoded into the amplitudes of the system as\n",
    "$$|\\Psi\\rangle=\\sum_i^n\\sqrt{p_i}|q_i\\rangle.$$"
   ]
  },
  {
   "cell_type": "code",
   "execution_count": 2,
   "metadata": {},
   "outputs": [],
   "source": [
    "'''\n",
    "Circuit that emulates the probability sharing between neighbors seen usually\n",
    "in Brownian motion and stochastic systems\n",
    "\n",
    "'''\n",
    "def rw_circuit(qubits, parameters):\n",
    "    C = QuantumCircuit(qubits+1)\n",
    "    if qubits%2==0:\n",
    "        mid1 = int(qubits/2)\n",
    "        mid0 = int(mid1-1)\n",
    "        C.x(mid1)\n",
    "        #partial-SWAP gates\n",
    "        #-------------------------------------------------\n",
    "        C.cx(mid1, mid0)\n",
    "        C.cu3(parameters[mid0], 0, 0, mid0, mid1)\n",
    "        C.cx(mid1, mid0)\n",
    "        #-------------------------------------------------\n",
    "        for i in range(mid0):\n",
    "            #partial-SWAP gates\n",
    "            #-------------------------------------------------\n",
    "            C.cx(mid0-i, mid0-i-1)\n",
    "            C.cu3(parameters[mid0-i-1], 0, 0, mid0-i-1, mid0-i)\n",
    "            C.cx(mid0-i, mid0-i-1)\n",
    "            #-------------------------------------------------\n",
    "            C.cx(mid1+i, mid1+i+1)\n",
    "            C.cu3(parameters[mid1+i], 0, 0, mid1+i+1, mid1+i)\n",
    "            C.cx(mid1+i, mid1+i+1)\n",
    "            #-------------------------------------------------\n",
    "    else:\n",
    "        mid = int((qubits-1)/2) #The random walk starts from the middle qubit\n",
    "        C.x(mid)\n",
    "        for i in range(mid):\n",
    "            #partial-SWAP gates\n",
    "            #-------------------------------------------------\n",
    "            C.cx(mid-i, mid-i-1)\n",
    "            C.cu3(parameters[mid-i-1], 0, 0, mid-i-1, mid-i)\n",
    "            C.cx(mid-i, mid-i-1)\n",
    "            #-------------------------------------------------\n",
    "            C.cx(mid+i, mid+i+1)\n",
    "            C.cu3(parameters[mid+i], 0, 0, mid+i+1, mid+i)\n",
    "            C.cx(mid+i, mid+i+1)\n",
    "            #-------------------------------------------------\n",
    "    return C"
   ]
  },
  {
   "cell_type": "markdown",
   "metadata": {},
   "source": [
    "##### Parameter optimization\n",
    "\n",
    "Each parameter of the partial-SWAP gates for the random walk circuit can be solved exactly if the probability distribution function is analytic, as is the case in this example.\n",
    "\n",
    "Due to the step-like nature of the circuit one can define a system of $n$ equations with $n-1$ free parameters to be fulfilled simultaneously. Then, starting from the edges of the circuit, one can start solving the equations. Once the center qubit is reached the rest of necessary solutions can be computed directly, as shown in the following code."
   ]
  },
  {
   "cell_type": "code",
   "execution_count": 3,
   "metadata": {},
   "outputs": [],
   "source": [
    "'''\n",
    "Solving for the exact angles for the random walk circuit that enables the loading of\n",
    "a desired probability distribution function\n",
    "\n",
    "'''\n",
    "def rw_parameters(qubits, pdf):\n",
    "    if qubits%2==0:\n",
    "        mid = int((qubits)/2)\n",
    "    else:\n",
    "        mid = int((qubits-1)/2) #Important to keep track of the centre\n",
    "    last = 1\n",
    "    parameters = []\n",
    "    for i in range(mid-1):\n",
    "        angle = 2 * np.arctan(np.sqrt(pdf[i]/(pdf[i+1] * last)))\n",
    "        parameters.append(angle)\n",
    "        last = (np.cos(angle/2))**2 #The last solution is needed to solve the next one\n",
    "    angle = 2 * np.arcsin(np.sqrt(pdf[mid-1]/last))\n",
    "    parameters.append(angle)\n",
    "    last = (np.cos(angle/2))**2\n",
    "    for i in range(mid, qubits-1):\n",
    "        angle = 2 * np.arccos(np.sqrt(pdf[i]/last))\n",
    "        parameters.append(angle)\n",
    "        last *= (np.sin(angle/2))**2\n",
    "    return parameters"
   ]
  },
  {
   "cell_type": "code",
   "execution_count": 4,
   "metadata": {},
   "outputs": [],
   "source": [
    "'''\n",
    "Circuit to sample the created probability distribution funtion\n",
    "\n",
    "'''\n",
    "def measure_probability(qubits):\n",
    "    C = QuantumCircuit(qubits+1, qubits)\n",
    "    C.barrier(qubits)\n",
    "    C.measure(range(qubits),range(qubits)) #No measure on the ancilla qubit is necessary\n",
    "    return C"
   ]
  },
  {
   "cell_type": "code",
   "execution_count": 5,
   "metadata": {},
   "outputs": [],
   "source": [
    "'''\n",
    "From the retuned sampling, extract only probabilies of unary states\n",
    "\n",
    "'''\n",
    "def extract_probability(qubits, counts, samples):\n",
    "    form = '{0:0%sb}' % str(qu)\n",
    "    prob = []\n",
    "    for i in range(qu):\n",
    "        prob.append(counts.get(form.format(2**i), 0))\n",
    "    prob = np.array(prob)\n",
    "    prob = prob/sum(prob)\n",
    "    return prob"
   ]
  },
  {
   "cell_type": "code",
   "execution_count": 6,
   "metadata": {},
   "outputs": [],
   "source": [
    "def extract_probability_all_samples(qubits, counts, samples):\n",
    "    \"\"\"\n",
    "    From the retuned sampling, extract only probabilies of all states\n",
    "    \"\"\"\n",
    "    form = '{0:0%sb}' % str(qubits)\n",
    "    prob = []\n",
    "    for i in range(2**qubits):\n",
    "        prob.append(counts.get(form.format(i), 0))\n",
    "    prob = np.array(prob)\n",
    "    prob = prob/sum(prob)\n",
    "    return prob"
   ]
  },
  {
   "cell_type": "markdown",
   "metadata": {},
   "source": [
    "***"
   ]
  },
  {
   "cell_type": "markdown",
   "metadata": {},
   "source": [
    "###### Simulation\n",
    "\n",
    "In order to test that this first step of the algorithm is correct, we can run a simulation using _qasm_simulator_"
   ]
  },
  {
   "cell_type": "code",
   "execution_count": 7,
   "metadata": {},
   "outputs": [],
   "source": [
    "'''\n",
    "Import auxiliary packages\n",
    "\n",
    "'''\n",
    "import matplotlib.pyplot as plt\n",
    "%matplotlib inline\n",
    "import numpy as np\n",
    "from math import pi"
   ]
  },
  {
   "cell_type": "code",
   "execution_count": 8,
   "metadata": {},
   "outputs": [],
   "source": [
    "'''\n",
    "Import Qiskit packages\n",
    "\n",
    "'''\n",
    "from qiskit import QuantumCircuit, execute\n",
    "from qiskit import Aer"
   ]
  },
  {
   "cell_type": "code",
   "execution_count": 9,
   "metadata": {},
   "outputs": [],
   "source": [
    "'''\n",
    "Get qasm backend for the simulation of the circuit\n",
    "\n",
    "'''\n",
    "backend_sim = Aer.get_backend('qasm_simulator')"
   ]
  },
  {
   "cell_type": "code",
   "execution_count": 10,
   "metadata": {},
   "outputs": [],
   "source": [
    "'''\n",
    "Define all the parameters to be used in the computation\n",
    "\n",
    "'''\n",
    "qu = 8 #Number of qubits for the probability distribution (ancilla not included)\n",
    "S0 = 2\n",
    "K = 1.9\n",
    "sig = 0.4\n",
    "r = 0.05\n",
    "T = 0.25\n",
    "mu = (r-0.5*sig**2)*T+np.log(S0) #mu value to be fed to lognormal distribution\n",
    "samples = 10000"
   ]
  },
  {
   "cell_type": "markdown",
   "metadata": {},
   "source": [
    "In order to sucesfully plot our data, it is useful to get the mean and variance of the log-normal probability distribution. The distance of 3 standard deviations from the mean is enough to represent the relevant part of the distribution."
   ]
  },
  {
   "cell_type": "code",
   "execution_count": 11,
   "metadata": {},
   "outputs": [],
   "source": [
    "'''\n",
    "Set the relevant zone of study and create the mapping between qubit and option price, and\n",
    "generate the target lognormal distribution within the interval\n",
    "\n",
    "'''\n",
    "mean = np.exp(mu+0.5*T*sig**2)\n",
    "variance = (np.exp(T*sig**2)-1)*np.exp(2*mu+T*sig**2)\n",
    "\n",
    "S = np.linspace(max(mean - 3 * np.sqrt(variance), 0), mean+3*np.sqrt(variance), qu)\n",
    "\n",
    "ln = log_normal(S, mu, sig, T) "
   ]
  },
  {
   "cell_type": "code",
   "execution_count": 12,
   "metadata": {},
   "outputs": [],
   "source": [
    "'''\n",
    "Solve for the parameters needed to create the target lognormal distribution\n",
    "\n",
    "'''\n",
    "lognormal_parameters = rw_parameters(qu, ln)"
   ]
  },
  {
   "cell_type": "code",
   "execution_count": 13,
   "metadata": {},
   "outputs": [],
   "source": [
    "'''\n",
    "Build the probaility loading circuit with the adjusted parameters\n",
    "\n",
    "'''\n",
    "prob_loading = rw_circuit(qu, lognormal_parameters)"
   ]
  },
  {
   "cell_type": "code",
   "execution_count": 14,
   "metadata": {},
   "outputs": [],
   "source": [
    "'''\n",
    "Circuit to test the precision of the probability loading algorithm\n",
    "\n",
    "'''\n",
    "circ_prob = prob_loading+measure_probability(qu)"
   ]
  },
  {
   "cell_type": "code",
   "execution_count": 15,
   "metadata": {},
   "outputs": [],
   "source": [
    "'''\n",
    "Run the test circuit through the simulator and sample the results\n",
    "in order to get the estimated probabilities\n",
    "\n",
    "'''\n",
    "job_sim = execute(circ_prob, backend_sim, shots=samples)\n",
    "result_sim = job_sim.result()"
   ]
  },
  {
   "cell_type": "code",
   "execution_count": 16,
   "metadata": {},
   "outputs": [],
   "source": [
    "counts_sim = result_sim.get_counts(circ_prob)"
   ]
  },
  {
   "cell_type": "code",
   "execution_count": 17,
   "metadata": {},
   "outputs": [],
   "source": [
    "prob_sim = extract_probability(qu, counts_sim, samples)"
   ]
  },
  {
   "cell_type": "code",
   "execution_count": 18,
   "metadata": {},
   "outputs": [],
   "source": [
    "'''\n",
    "Generate a very precise target probability distribution to benchmark the quantum results\n",
    "\n",
    "'''\n",
    "Sp = np.linspace(max(mean - 3 * np.sqrt(variance), 0), mean+3*np.sqrt(variance), 10000)\n",
    "lnp = log_normal(Sp, mu, sig, T)"
   ]
  },
  {
   "cell_type": "code",
   "execution_count": 19,
   "metadata": {},
   "outputs": [
    {
     "data": {
      "image/png": "[encoded data removed]",
      "text/plain": [
       "<Figure size 432x288 with 1 Axes>"
      ]
     },
     "metadata": {
      "needs_background": "light"
     },
     "output_type": "display_data"
    }
   ],
   "source": [
    "'''\n",
    "Plot the probability of each unary state on the corresponding option price and\n",
    "check against the precise classical probability drsitribution function for the \n",
    "target log-normal distribution\n",
    "\n",
    "'''\n",
    "width = (S[1]-S[0])/1.2\n",
    "\n",
    "fig, ax = plt.subplots()\n",
    "ax.bar(S, prob_sim, width, label='Quantum', alpha=0.8)\n",
    "ax.scatter(S, ln, s=500, color='C1', label='Exact', marker='_')\n",
    "ax.plot(Sp, lnp* (S[1]- S[0]) / (Sp[1] - Sp[0]), 'C1')\n",
    "plt.ylabel('Probability')\n",
    "plt.xlabel('Option price')\n",
    "plt.title('Option price distribution for {} qubits - qasm_simulator'.format(qu))\n",
    "ax.legend()\n",
    "fig.tight_layout()\n",
    "\n",
    "plt.show()"
   ]
  },
  {
   "cell_type": "markdown",
   "metadata": {},
   "source": [
    "The simulation using the calculated exact parameters for the partial-SWAP gate yields a good approximation of the target lognormal distribution. Therefore, we can keep going and apply the expected payoff calculator to this result.\n",
    "***"
   ]
  },
  {
   "cell_type": "markdown",
   "metadata": {},
   "source": [
    "#### Expected payoff calculator\n",
    "\n",
    "Once the probability distribution has been succesfully loaded, an ancilla is added to the system\n",
    "$$|\\Psi\\rangle=\\sum_i^n\\sqrt{p_i}|q_i\\rangle|0\\rangle.$$\n",
    "In order to encode the expected payoff into the probability of measuring $|1\\rangle$ in the ancilliary qubit, one must first find the qubits that are mapped to asset prices above the strike $K$, as this example focuses on European _call_ options. In the unary case this is easy, as each qubit is mapped to an asset price. Therefore, the algorithm consists on applying $cR_y$ gates targetting the ancilla, controlled exclusively by qubits with an associated asset price that is higher than the strike $K$. This circuit, for $n$ qubits plus the ancilla, takes the form\n",
    "<img src=\"Images/Payoff_text.png\" width=\"600\" title=\"Payoff circuit\"/>\n",
    "\n",
    "In order to finalize the circuit one must set the angles on the $cR_y$ gates to successfully encode the expected payoff. In this case, each angle will be\n",
    "$$\\theta_i=2\\arcsin{\\sqrt{\\frac{S_i-K}{S_n-K}}},$$\n",
    "where the $S_n-K$ term is set for normalization purposes. After the circuit is applied, the final state of the quantum system will be\n",
    "$$|\\Psi\\rangle=\\sum_{i<K}^n\\sqrt{p_i}|q_i\\rangle|0\\rangle+\\sum_{i>K}^n\\sqrt{p_i}\\cos{\\frac{\\theta_i}{2}}|q_i\\rangle|0\\rangle+\\sum_{i>K}^n\\sqrt{p_i}\\sin{\\frac{\\theta_i}{2}}|q_i\\rangle|1\\rangle.$$\n",
    "Which results in a probability of measuring $|1\\rangle$ in the ancilla of\n",
    "$$P(|1\\rangle) = \\sum_{S_i > K} p_i \\frac{S_i - K}{S_{max} - K},$$\n",
    "where the expected payoff can be extracted by removing the normalization piece."
   ]
  },
  {
   "cell_type": "code",
   "execution_count": 20,
   "metadata": {},
   "outputs": [],
   "source": [
    "'''\n",
    "Circuit that codifies the expected payoff of the option into the probability of a\n",
    "single ancilla qubit\n",
    "\n",
    "'''\n",
    "def payoff_circuit(qubits, K, S):\n",
    "    C = QuantumCircuit(qubits+1)\n",
    "    for i in range(qubits): #Determine the first qubit's price that \n",
    "        qK = i              #surpasses the strike price\n",
    "        if K<S[i]:\n",
    "            break\n",
    "    C.barrier(range(qubits+1))\n",
    "    for i in range(qK, qubits):                              #Control-RY rotations controled by states\n",
    "        angle = 2 * np.arcsin(np.sqrt((S[i]-K)/(S[qubits-1]-K))) #with higher value than the strike\n",
    "        C.cu3(angle, 0, 0, i, qubits)                        #targeting the ancilla qubit\n",
    "    return C"
   ]
  },
  {
   "cell_type": "markdown",
   "metadata": {},
   "source": [
    "#### Error mitigation\n",
    "\n",
    "Here is where the post-selection scheme appears. As the amplitude distributor works solely in a unary representation, if the read-out of any measurement of the first $n$ qubits contains more than one $|1\\rangle$, there has been an error in the process. Therefore, that run can be discarded.\n",
    "\n",
    "This simple post-selection scheme does, in fact, reduce the error of the outcome. \n"
   ]
  },
  {
   "cell_type": "code",
   "execution_count": 21,
   "metadata": {},
   "outputs": [],
   "source": [
    "'''\n",
    "Circuit that measures the ancilla qubit to sample the expected payoff of the option\n",
    "\n",
    "'''\n",
    "def measure_payoff(qubits):\n",
    "    '''\n",
    "    Measuements needed for the post-selection step of the algorithm\n",
    "    \n",
    "    '''\n",
    "    C = QuantumCircuit(qubits+1, qubits+1)\n",
    "    C.measure(range(qubits+1), range(qubits+1))\n",
    "    return C\n"
   ]
  },
  {
   "cell_type": "markdown",
   "metadata": {},
   "source": [
    "#### Build the complete circuit\n",
    "\n",
    "Now the complete circuit for expected payoff calculation can be concatenated together. The final circuit includes the probability loading algorithm for the unary representation and the payoff circuit. An example for a complete circuit for 7 qubits plus an ancilla.\n",
    "<img src=\"Images/Total_text.png\" width=\"800\" title=\"Total circuit\"/>"
   ]
  },
  {
   "cell_type": "code",
   "execution_count": 22,
   "metadata": {},
   "outputs": [],
   "source": [
    "'''\n",
    "Total circuit containing the probability loading and the payoff estimation measuring\n",
    "the ancilla qubit.\n",
    "\n",
    "'''\n",
    "circ_payoff_sim = prob_loading + payoff_circuit(qu, K, S) + measure_payoff(qu)"
   ]
  },
  {
   "cell_type": "markdown",
   "metadata": {},
   "source": [
    "###### Simulation"
   ]
  },
  {
   "cell_type": "code",
   "execution_count": 23,
   "metadata": {},
   "outputs": [],
   "source": [
    "'''\n",
    "Run the complete payoff expectation circuit through a simulator \n",
    "and sample the ancilla qubit\n",
    "\n",
    "'''\n",
    "job_payoff_sim = execute(circ_payoff_sim, backend_sim, shots=samples)\n",
    "result_payoff_sim = job_payoff_sim.result()"
   ]
  },
  {
   "cell_type": "code",
   "execution_count": 24,
   "metadata": {},
   "outputs": [],
   "source": [
    "counts_payoff_sim = result_payoff_sim.get_counts(circ_payoff_sim)"
   ]
  },
  {
   "cell_type": "code",
   "execution_count": 25,
   "metadata": {},
   "outputs": [],
   "source": [
    "'''\n",
    "Post-selection step where states that do not belong to the unary representation of\n",
    "the asset value are discarded.\n",
    "\n",
    "'''\n",
    "ones=0\n",
    "zeroes=0\n",
    "for key in counts_payoff_sim.keys(): #Post-selection step\n",
    "    unary = 0\n",
    "    for i in range(1,qu+1):\n",
    "        unary+=int(key[i])\n",
    "    if unary==1:\n",
    "        if int(key[0])==0:\n",
    "            zeroes+=counts_payoff_sim.get(key)\n",
    "        else:\n",
    "            ones+=counts_payoff_sim.get(key)\n",
    "\n",
    "qu_payoff_sim = ones * (S[qu - 1]-K) / (ones+zeroes)"
   ]
  },
  {
   "cell_type": "code",
   "execution_count": 26,
   "metadata": {},
   "outputs": [],
   "source": [
    "'''\n",
    "Calculation of the expected payoff using the precise probability distribution\n",
    "computed classically\n",
    "\n",
    "'''\n",
    "cl_payoff = 0\n",
    "for i in range(len(Sp)):\n",
    "    if K<Sp[i]:\n",
    "        cl_payoff += lnp[i]*(Sp[i]-K)"
   ]
  },
  {
   "cell_type": "code",
   "execution_count": 27,
   "metadata": {},
   "outputs": [
    {
     "name": "stdout",
     "output_type": "stream",
     "text": [
      "With precision 10000\n",
      "Classical Payoff: 0.21755186788182482\n",
      "\n",
      "With 8 qubits and 10000 samples\n",
      "Quantum Payoff: 0.22465089021855428\n",
      "\n",
      "Percentage off: 3.2631401448530344%\n"
     ]
    }
   ],
   "source": [
    "print('With precision {}'.format(samples))\n",
    "print('Classical Payoff: {}'.format(cl_payoff))\n",
    "print('')\n",
    "print('With {} qubits and {} samples'.format(qu, samples))\n",
    "print('Quantum Payoff: {}'.format(qu_payoff_sim))\n",
    "print('')\n",
    "print('Percentage off: {}%'.format(np.abs(100*(cl_payoff-qu_payoff_sim)/cl_payoff)))"
   ]
  },
  {
   "cell_type": "markdown",
   "metadata": {},
   "source": [
    "___Results:___ \n",
    "\n",
    "Even with an exponential loss of precision, it seems that the final result for the expected payoff does not differ much from the precise value computed by classical means.\n",
    "***"
   ]
  },
  {
   "cell_type": "markdown",
   "metadata": {},
   "source": [
    "In order to test the resiliance of the algorithm under noise, we could run it through a real quantum device. But if we want more control over the errors, we can define a noise model in order to run noisy simulations. "
   ]
  },
  {
   "cell_type": "code",
   "execution_count": 28,
   "metadata": {},
   "outputs": [],
   "source": [
    "from qiskit import QuantumCircuit, execute, Aer\n",
    "from qiskit.providers.aer.noise.errors import pauli_error\n",
    "from qiskit.providers.aer.noise import NoiseModel"
   ]
  },
  {
   "cell_type": "code",
   "execution_count": 29,
   "metadata": {},
   "outputs": [],
   "source": [
    "'''\n",
    "Build a noise model with tunable bitflip, phaseflip and measurement errors.\n",
    "\n",
    "'''\n",
    "def noise_model_total(qubits, t_bit, t_phase, t_meas):\n",
    "    noise_model = NoiseModel()\n",
    "    bit_error = t_bit\n",
    "    phase_error = t_phase\n",
    "    cnotb_error = 2*t_bit\n",
    "    cnotp_error = 2*t_phase\n",
    "    p_measure = t_meas\n",
    "    bit_flip = pauli_error([('X', bit_error), ('I', 1 - bit_error)])\n",
    "    phase_flip = pauli_error([('Z', phase_error), ('I', 1 - phase_error)])\n",
    "    bitphase_flip = bit_flip.compose(phase_flip)\n",
    "    cnot_bit = pauli_error([('X', cnotb_error), ('I', 1 - cnotb_error)])\n",
    "    cnot_phase = pauli_error([('Z', cnotp_error), ('I', 1 - cnotp_error)])\n",
    "    cnot_error = cnot_bit.compose(cnot_phase)\n",
    "    cnot_error = cnot_error.tensor(cnot_error)\n",
    "    noise_model.add_all_qubit_quantum_error(cnot_error, ['cx'], warnings=False)\n",
    "    noise_model.add_all_qubit_quantum_error(bitphase_flip, [\"u1\", \"u2\", \"u3\"])\n",
    "    measure_error = pauli_error([('X',p_measure), ('I', 1 - p_measure)])\n",
    "    noise_model.add_all_qubit_quantum_error(measure_error, \"measure\")\n",
    "\n",
    "    return noise_model"
   ]
  },
  {
   "cell_type": "markdown",
   "metadata": {},
   "source": [
    "#### Noisy simulation "
   ]
  },
  {
   "cell_type": "code",
   "execution_count": 30,
   "metadata": {},
   "outputs": [],
   "source": [
    "circ_payoff_noise = prob_loading + payoff_circuit(qu, K, S) + measure_payoff(qu)"
   ]
  },
  {
   "cell_type": "code",
   "execution_count": 31,
   "metadata": {},
   "outputs": [],
   "source": [
    "'''\n",
    "Determine the noise model we want to use.\n",
    "\n",
    "In this example: 0.3% bitflip and phaseflip errors\n",
    "                 1% measurement error\n",
    "\n",
    "'''\n",
    "t_bit = 0.003\n",
    "t_phase = 0.003\n",
    "t_meas = 0.01\n",
    "\n",
    "noise_model = noise_model_total(qu, t_bit, t_phase, t_meas)\n",
    "basis_gates = noise_model.basis_gates"
   ]
  },
  {
   "cell_type": "code",
   "execution_count": 32,
   "metadata": {},
   "outputs": [],
   "source": [
    "'''\n",
    "Run the complete payoff expectation circuit through noisy simulation\n",
    "following the determined noise model\n",
    "\n",
    "'''\n",
    "backend_noise = Aer.get_backend('qasm_simulator')\n",
    "job_payoff_noise = execute(circ_payoff_noise, backend_noise, shots=samples, basis_gates=basis_gates, noise_model=noise_model)\n",
    "result_payoff_noise = job_payoff_noise.result()"
   ]
  },
  {
   "cell_type": "code",
   "execution_count": 33,
   "metadata": {},
   "outputs": [],
   "source": [
    "counts_payoff_noise = result_payoff_noise.get_counts(circ_payoff_noise)"
   ]
  },
  {
   "cell_type": "code",
   "execution_count": 34,
   "metadata": {},
   "outputs": [],
   "source": [
    "'''\n",
    "Post-selection step where states that do not belong to the unary representation of\n",
    "the asset value are discarded.\n",
    "\n",
    "'''\n",
    "ones=0\n",
    "zeroes=0\n",
    "\n",
    "for key in counts_payoff_noise.keys():\n",
    "    unary = 0\n",
    "    for i in range(1,qu+1):\n",
    "        unary+=int(key[i])\n",
    "    if unary==1:\n",
    "        if int(key[0])==0:\n",
    "            zeroes+=counts_payoff_noise.get(key)\n",
    "        else:\n",
    "            ones+=counts_payoff_noise.get(key)\n",
    "\n",
    "qu_payoff_post = ones * (S[qu - 1]-K) / (ones+zeroes)"
   ]
  },
  {
   "cell_type": "code",
   "execution_count": 35,
   "metadata": {},
   "outputs": [],
   "source": [
    "'''\n",
    "Result without the post-selection scheme\n",
    "\n",
    "'''\n",
    "ones=0\n",
    "zeroes=0\n",
    "\n",
    "for key in counts_payoff_noise.keys():\n",
    "    if int(key[0])==0:\n",
    "        zeroes+=counts_payoff_noise.get(key)\n",
    "    else:\n",
    "        ones+=counts_payoff_noise.get(key)\n",
    "\n",
    "qu_payoff_no_post = ones * (S[qu - 1]-K) / (ones+zeroes)"
   ]
  },
  {
   "cell_type": "code",
   "execution_count": 36,
   "metadata": {},
   "outputs": [
    {
     "name": "stdout",
     "output_type": "stream",
     "text": [
      "With precision 10000\n",
      "Classical Pay-off: 0.21755186788182482\n",
      "\n",
      "Noise simulation with 0.003% bitflip, 0.003% phaseflip and 0.01% measurement errors:\n",
      "With precision 8 qubits and 10000 samples\n",
      "\n",
      "With post-processing\n",
      "\n",
      "Quantum Pay-off: 0.2937883678863928\n",
      "\n",
      "Percentage off: 35.04290758191972%\n",
      "\n",
      "Without post-processing\n",
      "\n",
      "Quantum Pay-off: 0.3646350391506456\n",
      "\n",
      "Percentage off: 67.60832379923166%\n"
     ]
    }
   ],
   "source": [
    "print('With precision {}'.format(samples))\n",
    "print('Classical Pay-off: {}'.format(cl_payoff))\n",
    "print('')\n",
    "print('Noise simulation with {}% bitflip, {}% phaseflip and {}% measurement errors:'.format(t_bit, t_phase, t_meas))\n",
    "print('With precision {} qubits and {} samples'.format(qu, samples))\n",
    "print('')\n",
    "print('With post-processing')\n",
    "print('')\n",
    "print('Quantum Pay-off: {}'.format(qu_payoff_post))\n",
    "print('')\n",
    "print('Percentage off: {}%'.format(np.abs(100*(cl_payoff-qu_payoff_post)/cl_payoff)))\n",
    "print('')\n",
    "print('Without post-processing')\n",
    "print('')\n",
    "print('Quantum Pay-off: {}'.format(qu_payoff_no_post))\n",
    "print('')\n",
    "print('Percentage off: {}%'.format(np.abs(100*(cl_payoff-qu_payoff_no_post)/cl_payoff)))"
   ]
  },
  {
   "cell_type": "markdown",
   "metadata": {},
   "source": [
    "The post-processing scheme reduced over 30% of the error found in this highly noisy simulation."
   ]
  },
  {
   "cell_type": "markdown",
   "metadata": {},
   "source": [
    "***"
   ]
  },
  {
   "cell_type": "markdown",
   "metadata": {},
   "source": [
    "#### Summary\n",
    "\n",
    "The unary representation may need a larger amount of qubits to reach the same precision than the binary scheme allows for. However, the simplicity of the unary circuit and the ability to post-select the outcomes to achieve error mitigation could make it ideal for NISQ devices."
   ]
  },
  {
   "cell_type": "markdown",
   "metadata": {},
   "source": [
    "### _References_\n",
    "\n",
    "[1] R. Orus, S. Mugel and E. Lizaso, *Quantum computing for finance: overview and prospects*, Reviews in Physics 4 (2019) 100028, [arXiv:1807.03890](https://arxiv.org/abs/1807.03890). <br>\n",
    "\n",
    "[2] P. Rebentrost, B. Gupt and T. R. Bromley, *Quantum computational finance: Monte Carlo pricing of financial derivatives*, Phys. Rev. A 98, 022321 (2018), [arXiv:1805.00109](https://arxiv.org/abs/1805.00109). <br>\n",
    "\n",
    "[3] N. Stamatopoulos, D. J. Egger, Y. Sun, C. Zoufal, R. Iten, N. Shen and S. Woerner, *Option Pricing using Quantum Computers* (2019), [arXiv:1905.02666](https://arxiv.org/abs/1905.02666). <br>\n",
    "\n",
    "[4] F. Black and M. Scholes, *The Pricing of Options and Corporate Liabilities*,  The Journal of Political Economy, Vol. 81, No. 3, pp. 637-654 (1973), [JSTOR](http://www.jstor.org/stable/1831029). <br>\n",
    "\n",
    "[5] L. Grover and T. Rudolph, *Creating superpositions that correspond to efficiently integrable probability distributions* (2002), [arXiv:quant-ph/0208112](https://arxiv.org/abs/quant-ph/0208112). <br>\n",
    "\n",
    "[6] S. A. Cuccaro, T. G. Draper, S. A. Kutin and D. Petrie Moulton, *A new quantum ripple-carry addition circuit* (2004), [arXiv:quant-ph/0410184](https://arxiv.org/abs/quant-ph/0410184). <br>\n",
    "\n",
    "[7] M.A. Nielsen and I.L. Chuang, *Quantum computation and quantum information*, Cambridge UniversityPress (2010). <br>"
   ]
  },
  {
   "cell_type": "code",
   "execution_count": 37,
   "metadata": {},
   "outputs": [
    {
     "data": {
      "text/html": [
       "<h3>Version Information</h3><table><tr><th>Qiskit Software</th><th>Version</th></tr><tr><td>Qiskit</td><td>0.13.0</td></tr><tr><td>Terra</td><td>0.10.0</td></tr><tr><td>Aer</td><td>0.3.2</td></tr><tr><td>Ignis</td><td>0.2.0</td></tr><tr><td>Aqua</td><td>0.6.1</td></tr><tr><td>IBM Q Provider</td><td>0.3.3</td></tr><tr><th>System information</th></tr><tr><td>Python</td><td>3.6.8 (default, Aug 20 2019, 17:12:48) \n",
       "[GCC 8.3.0]</td></tr><tr><td>OS</td><td>Linux</td></tr><tr><td>CPUs</td><td>4</td></tr><tr><td>Memory (Gb)</td><td>31.35873794555664</td></tr><tr><td colspan='2'>Thu Dec 12 17:28:05 2019 CET</td></tr></table>"
      ],
      "text/plain": [
       "<IPython.core.display.HTML object>"
      ]
     },
     "metadata": {},
     "output_type": "display_data"
    }
   ],
   "source": [
    "import qiskit.tools.jupyter\n",
    "%qiskit_version_table"
   ]
  },
  {
   "cell_type": "code",
   "execution_count": null,
   "metadata": {},
   "outputs": [],
   "source": []
  }
 ],
 "metadata": {
  "kernelspec": {
   "display_name": "Python 3",
   "language": "python",
   "name": "python3"
  },
  "language_info": {
   "codemirror_mode": {
    "name": "ipython",
    "version": 3
   },
   "file_extension": ".py",
   "mimetype": "text/x-python",
   "name": "python",
   "nbconvert_exporter": "python",
   "pygments_lexer": "ipython3",
   "version": "3.7.0"
  }
 },
 "nbformat": 4,
 "nbformat_minor": 2
}
